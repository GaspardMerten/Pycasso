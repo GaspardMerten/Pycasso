{
 "cells": [
  {
   "cell_type": "code",
   "execution_count": null,
   "metadata": {
    "collapsed": true
   },
   "outputs": [],
   "source": [
    "import pandas as pd\n",
    "import numpy as np\n",
    "import matplotlib.pyplot as plt\n",
    "# import geo distance computation\n",
    "from geopy.distance import geodesic"
   ]
  },
  {
   "cell_type": "code",
   "execution_count": null,
   "outputs": [],
   "source": [
    "df = pd.read_csv('../backup/ar41_for_ulb.csv', sep=';', index_col=0)"
   ],
   "metadata": {
    "collapsed": false
   }
  },
  {
   "cell_type": "code",
   "execution_count": null,
   "outputs": [],
   "source": [
    "df_102 = df[df['mapped_veh_id'] == 102]"
   ],
   "metadata": {
    "collapsed": false
   }
  },
  {
   "cell_type": "code",
   "execution_count": null,
   "outputs": [],
   "source": [
    "# vectorized haversine function\n",
    "def haversine(lat1, lon1, lat2, lon2, to_radians=True, earth_radius=6371):\n",
    "    \"\"\"\n",
    "    slightly modified version: of http://stackoverflow.com/a/29546836/2901002\n",
    "\n",
    "    Calculate the great circle distance between two points\n",
    "    on the earth (specified in decimal degrees or in radians)\n",
    "\n",
    "    All (lat, lon) coordinates must have numeric dtypes and be of equal length.\n",
    "    \"\"\"\n",
    "    if to_radians:\n",
    "        lat1, lon1, lat2, lon2 = np.radians([lat1, lon1, lat2, lon2])\n",
    "\n",
    "    a = np.sin((lat2 - lat1) / 2.0) ** 2 + np.cos(lat1) * np.cos(lat2) * np.sin((lon2 - lon1) / 2.0) ** 2\n",
    "\n",
    "    return earth_radius * 2 * np.arcsin(np.sqrt(a))  # return the value in km since the earth_radius is in km"
   ],
   "metadata": {
    "collapsed": false
   }
  },
  {
   "cell_type": "code",
   "execution_count": null,
   "outputs": [],
   "source": [
    "data = df_102.copy()\n",
    "\n",
    "data['timestamps_UTC'] = pd.to_datetime(data['timestamps_UTC'])\n",
    "data = data.reset_index(drop=True)\n",
    "data = data.set_index('timestamps_UTC')\n",
    "data = data.sort_index()\n",
    "\n",
    "print(len(data))\n",
    "\n",
    "data[\"time_difference\"] = data.index.to_series().diff().dt.total_seconds()\n",
    "\n",
    "data_processed = data[data[\"time_difference\"] > 5]\n",
    "\n",
    "data_processed[\"time_difference\"] = data_processed.index.to_series().diff().dt.total_seconds()\n",
    "data_processed[\"time_difference\"].iloc[0] = 0\n",
    "\n",
    "# print(data[\"time_difference\"])\n",
    "# print(len(data[\"time_difference\"]))\n",
    "\n",
    "data[\"distance\"] = haversine(data['lat'].shift(), data['lon'].shift(), data['lat'], data['lon']) * 1000\n",
    "data[\"distance\"].iloc[0] = 0\n",
    "\n",
    "data_processed[\"distance\"] = haversine(data_processed['lat'].shift(), data_processed['lon'].shift(), data_processed['lat'], data_processed['lon']) * 1000\n",
    "data_processed[\"distance\"].iloc[0] = 0\n",
    "\n",
    "# print(data[\"distance\"])\n",
    "# print(len(data[\"distance\"]))\n",
    "\n",
    "data[\"speed\"] = data[\"distance\"]/data[\"time_difference\"]\n",
    "data[\"speed\"].iloc[0] = 0\n",
    "\n",
    "data_processed[\"speed\"] = data_processed[\"distance\"]/data_processed[\"time_difference\"]\n",
    "data_processed[\"speed\"].iloc[0] = 0\n",
    "\n",
    "ts = pd.Series(data[\"speed\"], index=data.index)\n",
    "ts_processed = pd.Series(data_processed[\"speed\"], index=data_processed.index)\n",
    "\n",
    "print(data[\"speed\"].describe())\n",
    "print(data_processed[\"speed\"].describe())\n",
    "\n",
    "plt.figure(figsize=(20,8))\n",
    "plt.plot(ts)\n",
    "plt.plot(ts_processed)\n",
    "\n",
    "# Mark outliers as those being at more than 120 km/h\n",
    "outliers = ts[ts > 120 / 3.6]\n",
    "outliers_processed = ts_processed[ts_processed > 120 / 3.6]\n",
    "\n",
    "print(len(outliers))\n",
    "print(len(outliers_processed))\n",
    "\n",
    "plt.plot(outliers, 'ro')\n",
    "plt.plot(outliers_processed, 'go')\n",
    "\n",
    "plt.legend(['raw', 'processed'])\n",
    "plt.show()\n",
    "\n",
    "\n",
    "# Plot without the outliers\n",
    "plt.figure(figsize=(20,8))\n",
    "plt.plot(ts[ts < 120 / 3.6])\n",
    "plt.plot(ts_processed[ts_processed < 120 / 3.6])\n",
    "plt.plot()\n",
    "\n",
    "# Scatter plot of speed against oil pressure\n",
    "plt.figure(figsize=(20,8))\n",
    "data_processed = data_processed[data_processed[\"speed\"] < 120 / 3.6]\n",
    "data_processed = data_processed[data_processed[\"RS_E_OilPress_PC1\"] > 10]\n",
    "plt.scatter(data_processed[\"RS_E_OilPress_PC1\"], data_processed[\"speed\"])\n",
    "plt.show()"
   ],
   "metadata": {
    "collapsed": false
   }
  },
  {
   "cell_type": "code",
   "execution_count": null,
   "outputs": [],
   "source": [
    "def find_trip_split_indexes(data_frame: pd.DataFrame, threshold):\n",
    "    # Separate data by duration without data\n",
    "    df = data_frame.copy()\n",
    "\n",
    "    # Sort the data by timestamp\n",
    "    df.sort_index(inplace=True)\n",
    "\n",
    "    # Get the difference between consecutive timestamps\n",
    "    diff = pd.Series(df.index, index=df.index).diff()\n",
    "\n",
    "    # Get the right side indexes where the difference is bigger than 30min\n",
    "    idx_left = diff[diff > pd.Timedelta(minutes=threshold)].index\n",
    "\n",
    "    # Get the difference between consecutive timestamps, but in reverse order\n",
    "    s_diff = df.index.to_series().diff(periods=-1)\n",
    "\n",
    "    # Get the left side indexes where the difference is bigger than 30min\n",
    "    idx_right = s_diff[s_diff < -pd.Timedelta(minutes=threshold)].index\n",
    "\n",
    "    # Add the first and last indexes\n",
    "    idx_left = [df.index.min()] + idx_left.tolist()\n",
    "    idx_right = idx_right.tolist() + [df.index.max()]\n",
    "\n",
    "    return [segment for segment in zip(idx_left, idx_right)]"
   ],
   "metadata": {
    "collapsed": false
   }
  },
  {
   "cell_type": "code",
   "execution_count": null,
   "outputs": [],
   "source": [
    "from numpy import argmax\n",
    "\n",
    "data_split = data_processed.copy()\n",
    "\n",
    "# data_split = data_split[data_split[\"speed\"] > 0 / 3.6]\n",
    "\n",
    "# Get the indexes where the trip is split\n",
    "trip_split_indexes = find_trip_split_indexes(data_split, 5)\n",
    "\n",
    "# Split the data into trips\n",
    "trips = [data_split.loc[start:end] for start, end in trip_split_indexes]\n",
    "\n",
    "print(len(trips))\n",
    "\n",
    "### LOOK AT ONE TRIP ###\n",
    "trip_number = 6\n",
    "\n",
    "# Plot the speed of the first trip\n",
    "plt.figure(figsize=(20,8))\n",
    "plt.plot(trips[trip_number][\"speed\"])\n",
    "\n",
    "# Plot outliers\n",
    "plt.plot(trips[trip_number][trips[trip_number][\"speed\"] > 120 / 3.6][\"speed\"], 'ro')\n",
    "\n",
    "plt.show()\n",
    "\n",
    "# Compute max speed for each trip\n",
    "max_speeds = [trip[\"speed\"].max() for trip in trips]\n",
    "\n",
    "# Count number of outliers for each trip\n",
    "outliers_raw = [trip[trip[\"speed\"] > 120 / 3.6] for trip in trips]\n",
    "\n",
    "# Bar plot of max speeds\n",
    "plt.figure(figsize=(20,8))\n",
    "# plt.bar(range(len(max_speeds)), max_speeds)\n",
    "plt.bar(range(len(outliers_raw)), [len(outlier)/len(trips[i]) for i, outlier in enumerate(outliers_raw)])\n",
    "plt.show()\n",
    "\n",
    "### START PROCESSING DATA ###\n",
    "# Remove first speed of each trip\n",
    "for trip in trips:\n",
    "    trip.loc[0, \"speed\"] = 0\n",
    "\n",
    "### END PROCESSING DATA ###\n",
    "\n",
    "# Compute max speed for each trip\n",
    "max_speeds = [trip[\"speed\"].max() for trip in trips]\n",
    "\n",
    "# Count number of outliers for each trip\n",
    "outliers_processed = [trip[trip[\"speed\"] > 120 / 3.6] for trip in trips]\n",
    "\n",
    "# Bar plot of max speeds\n",
    "plt.figure(figsize=(20,8))\n",
    "# plt.bar(range(len(max_speeds)), max_speeds)\n",
    "plt.bar(range(len(outliers_processed)), [len(outlier)/len(trips[i]) for i, outlier in enumerate(outliers_processed)])\n",
    "plt.show()\n",
    "\n",
    "# Plot the difference between the number of outliers in the raw and processed data\n",
    "plt.figure(figsize=(20,8))\n",
    "\n",
    "raw = [len(outlier)/len(trips[i]) for i, outlier in enumerate(outliers_raw)]\n",
    "processed = [len(outlier)/len(trips[i]) for i, outlier in enumerate(outliers_processed)]\n",
    "\n",
    "plt.bar(range(len(raw)), [raw[i] - processed[i] for i in range(len(raw))])\n",
    "plt.show()\n"
   ],
   "metadata": {
    "collapsed": false
   }
  }
 ],
 "metadata": {
  "kernelspec": {
   "display_name": "Python 3",
   "language": "python",
   "name": "python3"
  },
  "language_info": {
   "codemirror_mode": {
    "name": "ipython",
    "version": 2
   },
   "file_extension": ".py",
   "mimetype": "text/x-python",
   "name": "python",
   "nbconvert_exporter": "python",
   "pygments_lexer": "ipython2",
   "version": "2.7.6"
  }
 },
 "nbformat": 4,
 "nbformat_minor": 0
}
