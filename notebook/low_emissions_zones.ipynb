{
 "cells": [
  {
   "cell_type": "code",
   "execution_count": null,
   "metadata": {
    "collapsed": true
   },
   "outputs": [],
   "source": [
    "import pandas as pd\n",
    "import numpy as np\n",
    "import folium\n",
    "import matplotlib.pyplot as plt"
   ]
  },
  {
   "cell_type": "code",
   "execution_count": null,
   "outputs": [],
   "source": [
    "# Select the tuples where only one of the two RPM is set to 0 and plot them on the map with folium\n",
    "\n",
    "# Load the data\n",
    "data = pd.read_csv('../backup/processed.csv', sep=';')"
   ],
   "metadata": {
    "collapsed": false
   }
  },
  {
   "cell_type": "code",
   "execution_count": null,
   "outputs": [],
   "source": [
    "df = data.copy()\n",
    "df = df.dropna()"
   ],
   "metadata": {
    "collapsed": false
   }
  },
  {
   "cell_type": "code",
   "execution_count": null,
   "outputs": [],
   "source": [
    "# Map of all the tuples under 1km/h\n",
    "df_1 = df[df['speed'] < 1 / 3.6]\n",
    "df_0_0 = df[(df['RS_E_RPM_PC1'] == 0) & (df['RS_E_RPM_PC2'] == 0)]\n",
    "\n",
    "print(len(df_1))\n",
    "print(len(df_0_0))\n",
    "\n",
    "# Choose a random number of tuples\n",
    "df_1 = df_1.sample(10000)\n",
    "df_0_0 = df_0_0.sample(10000)\n",
    "\n",
    "# Create a map\n",
    "m = folium.Map(\n",
    "    location=[50.503887, 4.469936],\n",
    "    # Easily readable tiles\n",
    "    tiles='cartodbpositron',\n",
    "    zoom_start=8,\n",
    "    zoom_control=False,\n",
    "    scrollWheelZoom=False,\n",
    "    dragging=False\n",
    ")\n",
    "\n",
    "# Add a marker for each tuple\n",
    "for index, row in df_1.iterrows():\n",
    "    folium.CircleMarker(\n",
    "        location=[row['lat'], row['lon']],\n",
    "        radius=1,\n",
    "        color='blue',\n",
    "    ).add_to(m)\n",
    "\n",
    "for index, row in df_0_0.iterrows():\n",
    "    folium.CircleMarker(\n",
    "        location=[row['lat'], row['lon']],\n",
    "        radius=1,\n",
    "        color='red',\n",
    "    ).add_to(m)\n",
    "\n",
    "# Display the map\n",
    "m"
   ],
   "metadata": {
    "collapsed": false
   }
  },
  {
   "cell_type": "code",
   "execution_count": null,
   "outputs": [],
   "source": [
    "df_all = df.copy()\n",
    "\n",
    "veh_id = 107\n",
    "df_all = df_all[df_all['mapped_veh_id'] == veh_id]\n",
    "\n",
    "# Select the tuples where one of the RPM is set to 0\n",
    "df_0 = df_all[(df_all['RS_E_RPM_PC1'] == 0) ^ (df_all['RS_E_RPM_PC2'] == 0)].dropna()\n",
    "df_0_0 = df_all[(df_all['RS_E_RPM_PC1'] == 0) & (df_all['RS_E_RPM_PC2'] == 0)].dropna()\n",
    "\n",
    "# Remove the tuples from the df_all\n",
    "df_all = df_all[~df_all.isin(df_0) | ~df_all.isin(df_0_0)].dropna()\n",
    "\n",
    "# plot the rectangle on a map\n",
    "\n",
    "# Create a map, centered on Belgium, don't allow to zoom\n",
    "m = folium.Map(\n",
    "    location=[50.503887, 4.469936],\n",
    "    # Easily readable tiles\n",
    "    tiles='cartodbpositron',\n",
    "    zoom_start=8,\n",
    "    zoom_control=False,\n",
    "    scrollWheelZoom=False,\n",
    "    dragging=False\n",
    ")\n",
    "\n",
    "# Add a marker for each tuple\n",
    "for index, row in df_all.iterrows():\n",
    "    folium.CircleMarker(\n",
    "        location=[row['lat'], row['lon']],\n",
    "        radius=1,\n",
    "        color='blue',\n",
    "    ).add_to(m)\n",
    "\n",
    "# Add a marker for each tuple\n",
    "for index, row in df_0.iterrows():\n",
    "    folium.CircleMarker(\n",
    "        location=[row['lat'], row['lon']],\n",
    "        radius=1,\n",
    "        color='green',\n",
    "    ).add_to(m)\n",
    "\n",
    "# Add a marker for each tuple\n",
    "for index, row in df_0_0.iterrows():\n",
    "    folium.CircleMarker(\n",
    "        location=[row['lat'], row['lon']],\n",
    "        radius=1,\n",
    "        color='red',\n",
    "    ).add_to(m)\n",
    "\n",
    "# Display the map\n",
    "# m.show_in_browser()\n",
    "m.save(f'../backup/map_interpretation_{veh_id}.html')"
   ],
   "metadata": {
    "collapsed": false
   }
  },
  {
   "cell_type": "code",
   "execution_count": null,
   "outputs": [],
   "source": [
    "df = data.copy()\n",
    "df = df.dropna()"
   ],
   "metadata": {
    "collapsed": false
   }
  },
  {
   "cell_type": "code",
   "execution_count": null,
   "outputs": [],
   "source": [
    "df_0_0 = df[(df['RS_E_RPM_PC1'] == 0) & (df['RS_E_RPM_PC2'] == 0)].dropna()\n",
    "\n",
    "# Create a map with all the data where both motors are at 0 RPM\n",
    "m = folium.Map(\n",
    "    location=[50.503887, 4.469936],\n",
    "    # Easily readable tiles\n",
    "    tiles='cartodbpositron',\n",
    "    zoom_start=8,\n",
    "    zoom_control=False,\n",
    "    scrollWheelZoom=False,\n",
    "    dragging=False\n",
    ")\n",
    "\n",
    "# Add a marker for each tuple\n",
    "for index, row in df_0_0.iterrows():\n",
    "    folium.CircleMarker(\n",
    "        location=[row['lat'], row['lon']],\n",
    "        radius=1,\n",
    "        color='red',\n",
    "    ).add_to(m)\n",
    "\n",
    "# Display the map\n",
    "# m.show_in_browser()\n",
    "m.save('../backup/map_stop.html')"
   ],
   "metadata": {
    "collapsed": false
   }
  },
  {
   "cell_type": "code",
   "execution_count": null,
   "outputs": [],
   "source": [
    "df_0 = df[(df['RS_E_RPM_PC1'] == 0) ^ (df['RS_E_RPM_PC2'] == 0)].dropna()\n",
    "\n",
    "# Create a map with all the data where both motors are at 0 RPM\n",
    "m = folium.Map(\n",
    "    location=[50.503887, 4.469936],\n",
    "    # Easily readable tiles\n",
    "    tiles='cartodbpositron',\n",
    "    zoom_start=8,\n",
    "    zoom_control=False,\n",
    "    scrollWheelZoom=False,\n",
    "    dragging=False\n",
    ")\n",
    "\n",
    "# Add a marker for each tuple\n",
    "for index, row in df_0.iterrows():\n",
    "    folium.CircleMarker(\n",
    "        location=[row['lat'], row['lon']],\n",
    "        radius=1,\n",
    "        color='green',\n",
    "    ).add_to(m)\n",
    "\n",
    "# Display the map\n",
    "# m.show_in_browser()\n",
    "m.save('../backup/map_green.html')"
   ],
   "metadata": {
    "collapsed": false
   }
  }
 ],
 "metadata": {
  "kernelspec": {
   "display_name": "Python 3",
   "language": "python",
   "name": "python3"
  },
  "language_info": {
   "codemirror_mode": {
    "name": "ipython",
    "version": 2
   },
   "file_extension": ".py",
   "mimetype": "text/x-python",
   "name": "python",
   "nbconvert_exporter": "python",
   "pygments_lexer": "ipython2",
   "version": "2.7.6"
  }
 },
 "nbformat": 4,
 "nbformat_minor": 0
}
