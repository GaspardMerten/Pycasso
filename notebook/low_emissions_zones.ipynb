{
 "cells": [
  {
   "cell_type": "code",
   "execution_count": 1,
   "metadata": {
    "collapsed": true,
    "ExecuteTime": {
     "end_time": "2023-12-09T13:18:37.066913Z",
     "start_time": "2023-12-09T13:18:36.635971Z"
    }
   },
   "outputs": [],
   "source": [
    "import pandas as pd\n",
    "import numpy as np\n",
    "import matplotlib.pyplot as plt"
   ]
  },
  {
   "cell_type": "code",
   "execution_count": 2,
   "outputs": [],
   "source": [
    "# Select the tuples where only one of the two RPM is set to 0 and plot them on the map with folium\n",
    "\n",
    "# Load the data\n",
    "data = pd.read_csv('../backup/processed.csv', sep=';')"
   ],
   "metadata": {
    "collapsed": false,
    "ExecuteTime": {
     "end_time": "2023-12-09T13:19:02.837201Z",
     "start_time": "2023-12-09T13:18:37.067338Z"
    }
   }
  },
  {
   "cell_type": "code",
   "execution_count": 3,
   "outputs": [],
   "source": [
    "df = data.copy()\n",
    "df = df.dropna()\n",
    "df = df[df['mapped_veh_id'] == 102]"
   ],
   "metadata": {
    "collapsed": false,
    "ExecuteTime": {
     "end_time": "2023-12-09T13:19:13.422855Z",
     "start_time": "2023-12-09T13:19:02.797443Z"
    }
   }
  },
  {
   "cell_type": "code",
   "execution_count": 7,
   "outputs": [],
   "source": [
    "df_all = df.copy()\n",
    "\n",
    "# Select the tuples where one of the RPM is set to 0\n",
    "df_0 = df_all[(df_all['RS_E_RPM_PC1'] == 0) ^ (df_all['RS_E_RPM_PC2'] == 0)].dropna()\n",
    "df_0_0 = df_all[(df_all['RS_E_RPM_PC1'] == 0) & (df_all['RS_E_RPM_PC2'] == 0)].dropna()\n",
    "\n",
    "# Remove the tuples from the df_all\n",
    "df_all = df_all[~df_all.isin(df_0) | ~df_all.isin(df_0_0)].dropna()\n",
    "\n",
    "# plot the rectangle on a map\n",
    "import folium\n",
    "\n",
    "# Create a map, centered on Belgium, don't allow to zoom\n",
    "m = folium.Map(\n",
    "    location=[50.503887, 4.469936],\n",
    "    # Easily readable tiles\n",
    "    tiles='cartodbpositron',\n",
    "    zoom_start=8,\n",
    "    zoom_control=False,\n",
    "    scrollWheelZoom=False,\n",
    "    dragging=False\n",
    ")\n",
    "\n",
    "# Add a marker for each tuple\n",
    "for index, row in df_all.iterrows():\n",
    "    folium.CircleMarker(\n",
    "        location=[row['lat'], row['lon']],\n",
    "        radius=1,\n",
    "        color='blue',\n",
    "    ).add_to(m)\n",
    "\n",
    "# Add a marker for each tuple\n",
    "for index, row in df_0.iterrows():\n",
    "    folium.CircleMarker(\n",
    "        location=[row['lat'], row['lon']],\n",
    "        radius=1,\n",
    "        color='green',\n",
    "    ).add_to(m)\n",
    "\n",
    "# Add a marker for each tuple\n",
    "for index, row in df_0_0.iterrows():\n",
    "    folium.CircleMarker(\n",
    "        location=[row['lat'], row['lon']],\n",
    "        radius=1,\n",
    "        color='red',\n",
    "    ).add_to(m)\n",
    "\n",
    "# Add a legend to the map\n",
    "# legend_html = '''\n",
    "#      <div style=\"position: fixed;\n",
    "#      bottom: 50px; left: 50px; width: 100px; height: 90px;\n",
    "#      border:2px solid grey; z-index:9999; font-size:14px;\n",
    "#      \">&nbsp; <b>Legend</b> <br>\n",
    "#      &nbsp; All RPM set to 0 &nbsp; <i class=\"fa fa-circle fa-1x\" style=\"color:green\"></i><br>\n",
    "#      &nbsp; One RPM set to 0 &nbsp; <i class=\"fa fa-circle fa-1x\" style=\"color:red\"></i><br>\n",
    "#      &nbsp; No RPM set to 0 &nbsp; <i class=\"fa fa-circle fa-1x\" style=\"color:blue\"></i>\n",
    "#       </div>\n",
    "#      '''\n",
    "#\n",
    "# m.get_root().html.add_child(folium.Element(legend_html))\n",
    "\n",
    "# Display the map\n",
    "# m.show_in_browser()\n",
    "m.save('../backup/map_interpretation.html')"
   ],
   "metadata": {
    "collapsed": false,
    "ExecuteTime": {
     "end_time": "2023-12-09T13:24:36.663304Z",
     "start_time": "2023-12-09T13:23:57.231372Z"
    }
   }
  },
  {
   "cell_type": "code",
   "execution_count": 9,
   "outputs": [
    {
     "data": {
      "text/plain": "          mapped_veh_id       timestamps_UTC        lat       lon  \\\n0                 102.0  2023-01-23 07:25:08  51.017864  3.769079   \n1                 102.0  2023-01-23 07:25:16  51.017875  3.769046   \n2                 102.0  2023-01-23 07:25:37  51.017208  3.770179   \n3                 102.0  2023-01-23 07:25:41  51.016916  3.771036   \n4                 102.0  2023-01-23 07:26:10  51.016503  3.772182   \n...                 ...                  ...        ...       ...   \n17666542          197.0  2023-09-13 17:33:03  50.402693  4.450111   \n17666543          197.0  2023-09-13 17:33:58  50.401657  4.452693   \n17666544          197.0  2023-09-13 17:34:03  50.401830  4.452217   \n17666545          197.0  2023-09-13 17:34:58  50.401057  4.455388   \n17666546          197.0  2023-09-13 17:35:04  50.401084  4.455169   \n\n          RS_E_InAirTemp_PC1  RS_E_InAirTemp_PC2  RS_E_OilPress_PC1  \\\n0                       17.0                18.0              210.0   \n1                       17.0                20.0              200.0   \n2                       19.0                20.0              193.0   \n3                       19.0                20.0              196.0   \n4                       19.0                21.0              200.0   \n...                      ...                 ...                ...   \n17666542                37.0                40.0              220.0   \n17666543                37.0                38.0              224.0   \n17666544                37.0                38.0              224.0   \n17666545                36.0                38.0              207.0   \n17666546                36.0                38.0              213.0   \n\n          RS_E_OilPress_PC2  RS_E_RPM_PC1  RS_E_RPM_PC2  RS_E_WatTemp_PC1  \\\n0                     210.0         858.0         839.0              78.0   \n1                     200.0         801.0         804.0              79.0   \n2                     207.0         803.0         808.0              80.0   \n3                     203.0         801.0         803.0              80.0   \n4                     203.0         795.0         807.0              80.0   \n...                     ...           ...           ...               ...   \n17666542              258.0         803.0         803.0              81.0   \n17666543              307.0         843.0         941.0              80.0   \n17666544              307.0         841.0         932.0              80.0   \n17666545              244.0         800.0         803.0              81.0   \n17666546              244.0         802.0         801.0              82.0   \n\n          RS_E_WatTemp_PC2  RS_T_OilTemp_PC1  RS_T_OilTemp_PC2  \\\n0                     80.0              71.0              79.0   \n1                     80.0              76.0              79.0   \n2                     81.0              79.0              81.0   \n3                     81.0              79.0              81.0   \n4                     82.0              79.0              79.0   \n...                    ...               ...               ...   \n17666542              79.0              77.0              81.0   \n17666543              78.0              77.0              80.0   \n17666544              78.0              77.0              80.0   \n17666545              80.0              77.0              82.0   \n17666546              80.0              79.0              82.0   \n\n          time_difference    distance      speed  \n0         0 days 00:00:00    0.000000   0.000000  \n1         0 days 00:00:08    2.573768   0.321721  \n2         0 days 00:00:21  108.516678   5.167461  \n3         0 days 00:00:04   68.192469  17.048117  \n4         0 days 00:00:29   92.401557   3.186261  \n...                   ...         ...        ...  \n17666542  0 days 00:00:05   11.756205   2.351241  \n17666543  0 days 00:00:55  216.286719   3.932486  \n17666544  0 days 00:00:05   38.787277   7.757455  \n17666545  0 days 00:00:55  240.619860   4.374907  \n17666546  0 days 00:00:06   15.864746   2.644124  \n\n[17666547 rows x 17 columns]",
      "text/html": "<div>\n<style scoped>\n    .dataframe tbody tr th:only-of-type {\n        vertical-align: middle;\n    }\n\n    .dataframe tbody tr th {\n        vertical-align: top;\n    }\n\n    .dataframe thead th {\n        text-align: right;\n    }\n</style>\n<table border=\"1\" class=\"dataframe\">\n  <thead>\n    <tr style=\"text-align: right;\">\n      <th></th>\n      <th>mapped_veh_id</th>\n      <th>timestamps_UTC</th>\n      <th>lat</th>\n      <th>lon</th>\n      <th>RS_E_InAirTemp_PC1</th>\n      <th>RS_E_InAirTemp_PC2</th>\n      <th>RS_E_OilPress_PC1</th>\n      <th>RS_E_OilPress_PC2</th>\n      <th>RS_E_RPM_PC1</th>\n      <th>RS_E_RPM_PC2</th>\n      <th>RS_E_WatTemp_PC1</th>\n      <th>RS_E_WatTemp_PC2</th>\n      <th>RS_T_OilTemp_PC1</th>\n      <th>RS_T_OilTemp_PC2</th>\n      <th>time_difference</th>\n      <th>distance</th>\n      <th>speed</th>\n    </tr>\n  </thead>\n  <tbody>\n    <tr>\n      <th>0</th>\n      <td>102.0</td>\n      <td>2023-01-23 07:25:08</td>\n      <td>51.017864</td>\n      <td>3.769079</td>\n      <td>17.0</td>\n      <td>18.0</td>\n      <td>210.0</td>\n      <td>210.0</td>\n      <td>858.0</td>\n      <td>839.0</td>\n      <td>78.0</td>\n      <td>80.0</td>\n      <td>71.0</td>\n      <td>79.0</td>\n      <td>0 days 00:00:00</td>\n      <td>0.000000</td>\n      <td>0.000000</td>\n    </tr>\n    <tr>\n      <th>1</th>\n      <td>102.0</td>\n      <td>2023-01-23 07:25:16</td>\n      <td>51.017875</td>\n      <td>3.769046</td>\n      <td>17.0</td>\n      <td>20.0</td>\n      <td>200.0</td>\n      <td>200.0</td>\n      <td>801.0</td>\n      <td>804.0</td>\n      <td>79.0</td>\n      <td>80.0</td>\n      <td>76.0</td>\n      <td>79.0</td>\n      <td>0 days 00:00:08</td>\n      <td>2.573768</td>\n      <td>0.321721</td>\n    </tr>\n    <tr>\n      <th>2</th>\n      <td>102.0</td>\n      <td>2023-01-23 07:25:37</td>\n      <td>51.017208</td>\n      <td>3.770179</td>\n      <td>19.0</td>\n      <td>20.0</td>\n      <td>193.0</td>\n      <td>207.0</td>\n      <td>803.0</td>\n      <td>808.0</td>\n      <td>80.0</td>\n      <td>81.0</td>\n      <td>79.0</td>\n      <td>81.0</td>\n      <td>0 days 00:00:21</td>\n      <td>108.516678</td>\n      <td>5.167461</td>\n    </tr>\n    <tr>\n      <th>3</th>\n      <td>102.0</td>\n      <td>2023-01-23 07:25:41</td>\n      <td>51.016916</td>\n      <td>3.771036</td>\n      <td>19.0</td>\n      <td>20.0</td>\n      <td>196.0</td>\n      <td>203.0</td>\n      <td>801.0</td>\n      <td>803.0</td>\n      <td>80.0</td>\n      <td>81.0</td>\n      <td>79.0</td>\n      <td>81.0</td>\n      <td>0 days 00:00:04</td>\n      <td>68.192469</td>\n      <td>17.048117</td>\n    </tr>\n    <tr>\n      <th>4</th>\n      <td>102.0</td>\n      <td>2023-01-23 07:26:10</td>\n      <td>51.016503</td>\n      <td>3.772182</td>\n      <td>19.0</td>\n      <td>21.0</td>\n      <td>200.0</td>\n      <td>203.0</td>\n      <td>795.0</td>\n      <td>807.0</td>\n      <td>80.0</td>\n      <td>82.0</td>\n      <td>79.0</td>\n      <td>79.0</td>\n      <td>0 days 00:00:29</td>\n      <td>92.401557</td>\n      <td>3.186261</td>\n    </tr>\n    <tr>\n      <th>...</th>\n      <td>...</td>\n      <td>...</td>\n      <td>...</td>\n      <td>...</td>\n      <td>...</td>\n      <td>...</td>\n      <td>...</td>\n      <td>...</td>\n      <td>...</td>\n      <td>...</td>\n      <td>...</td>\n      <td>...</td>\n      <td>...</td>\n      <td>...</td>\n      <td>...</td>\n      <td>...</td>\n      <td>...</td>\n    </tr>\n    <tr>\n      <th>17666542</th>\n      <td>197.0</td>\n      <td>2023-09-13 17:33:03</td>\n      <td>50.402693</td>\n      <td>4.450111</td>\n      <td>37.0</td>\n      <td>40.0</td>\n      <td>220.0</td>\n      <td>258.0</td>\n      <td>803.0</td>\n      <td>803.0</td>\n      <td>81.0</td>\n      <td>79.0</td>\n      <td>77.0</td>\n      <td>81.0</td>\n      <td>0 days 00:00:05</td>\n      <td>11.756205</td>\n      <td>2.351241</td>\n    </tr>\n    <tr>\n      <th>17666543</th>\n      <td>197.0</td>\n      <td>2023-09-13 17:33:58</td>\n      <td>50.401657</td>\n      <td>4.452693</td>\n      <td>37.0</td>\n      <td>38.0</td>\n      <td>224.0</td>\n      <td>307.0</td>\n      <td>843.0</td>\n      <td>941.0</td>\n      <td>80.0</td>\n      <td>78.0</td>\n      <td>77.0</td>\n      <td>80.0</td>\n      <td>0 days 00:00:55</td>\n      <td>216.286719</td>\n      <td>3.932486</td>\n    </tr>\n    <tr>\n      <th>17666544</th>\n      <td>197.0</td>\n      <td>2023-09-13 17:34:03</td>\n      <td>50.401830</td>\n      <td>4.452217</td>\n      <td>37.0</td>\n      <td>38.0</td>\n      <td>224.0</td>\n      <td>307.0</td>\n      <td>841.0</td>\n      <td>932.0</td>\n      <td>80.0</td>\n      <td>78.0</td>\n      <td>77.0</td>\n      <td>80.0</td>\n      <td>0 days 00:00:05</td>\n      <td>38.787277</td>\n      <td>7.757455</td>\n    </tr>\n    <tr>\n      <th>17666545</th>\n      <td>197.0</td>\n      <td>2023-09-13 17:34:58</td>\n      <td>50.401057</td>\n      <td>4.455388</td>\n      <td>36.0</td>\n      <td>38.0</td>\n      <td>207.0</td>\n      <td>244.0</td>\n      <td>800.0</td>\n      <td>803.0</td>\n      <td>81.0</td>\n      <td>80.0</td>\n      <td>77.0</td>\n      <td>82.0</td>\n      <td>0 days 00:00:55</td>\n      <td>240.619860</td>\n      <td>4.374907</td>\n    </tr>\n    <tr>\n      <th>17666546</th>\n      <td>197.0</td>\n      <td>2023-09-13 17:35:04</td>\n      <td>50.401084</td>\n      <td>4.455169</td>\n      <td>36.0</td>\n      <td>38.0</td>\n      <td>213.0</td>\n      <td>244.0</td>\n      <td>802.0</td>\n      <td>801.0</td>\n      <td>82.0</td>\n      <td>80.0</td>\n      <td>79.0</td>\n      <td>82.0</td>\n      <td>0 days 00:00:06</td>\n      <td>15.864746</td>\n      <td>2.644124</td>\n    </tr>\n  </tbody>\n</table>\n<p>17666547 rows × 17 columns</p>\n</div>"
     },
     "execution_count": 9,
     "metadata": {},
     "output_type": "execute_result"
    }
   ],
   "source": [
    "df = data.copy()\n",
    "df = df.dropna()"
   ],
   "metadata": {
    "collapsed": false,
    "ExecuteTime": {
     "end_time": "2023-12-09T13:29:19.225213Z",
     "start_time": "2023-12-09T13:29:08.771147Z"
    }
   }
  },
  {
   "cell_type": "code",
   "execution_count": 10,
   "outputs": [],
   "source": [
    "df_0_0 = df[(df['RS_E_RPM_PC1'] == 0) & (df['RS_E_RPM_PC2'] == 0)].dropna()\n",
    "\n",
    "# Create a map with all the data where both motors are at 0 RPM\n",
    "m = folium.Map(\n",
    "    location=[50.503887, 4.469936],\n",
    "    # Easily readable tiles\n",
    "    tiles='cartodbpositron',\n",
    "    zoom_start=8,\n",
    "    zoom_control=False,\n",
    "    scrollWheelZoom=False,\n",
    "    dragging=False\n",
    ")\n",
    "\n",
    "# Add a marker for each tuple\n",
    "for index, row in df_0_0.iterrows():\n",
    "    folium.CircleMarker(\n",
    "        location=[row['lat'], row['lon']],\n",
    "        radius=1,\n",
    "        color='red',\n",
    "    ).add_to(m)\n",
    "\n",
    "# Display the map\n",
    "# m.show_in_browser()\n",
    "m.save('../backup/map_stop.html')"
   ],
   "metadata": {
    "collapsed": false,
    "ExecuteTime": {
     "end_time": "2023-12-09T13:30:53.975830Z",
     "start_time": "2023-12-09T13:29:19.216536Z"
    }
   }
  },
  {
   "cell_type": "code",
   "execution_count": 12,
   "outputs": [],
   "source": [
    "df_0 = df[(df['RS_E_RPM_PC1'] == 0) ^ (df['RS_E_RPM_PC2'] == 0)].dropna()\n",
    "\n",
    "# Create a map with all the data where both motors are at 0 RPM\n",
    "m = folium.Map(\n",
    "    location=[50.503887, 4.469936],\n",
    "    # Easily readable tiles\n",
    "    tiles='cartodbpositron',\n",
    "    zoom_start=8,\n",
    "    zoom_control=False,\n",
    "    scrollWheelZoom=False,\n",
    "    dragging=False\n",
    ")\n",
    "\n",
    "# Add a marker for each tuple\n",
    "for index, row in df_0.iterrows():\n",
    "    folium.CircleMarker(\n",
    "        location=[row['lat'], row['lon']],\n",
    "        radius=1,\n",
    "        color='green',\n",
    "    ).add_to(m)\n",
    "\n",
    "# Display the map\n",
    "# m.show_in_browser()\n",
    "m.save('../backup/map_green.html')"
   ],
   "metadata": {
    "collapsed": false,
    "ExecuteTime": {
     "end_time": "2023-12-09T13:42:16.057681Z",
     "start_time": "2023-12-09T13:39:58.064375Z"
    }
   }
  }
 ],
 "metadata": {
  "kernelspec": {
   "display_name": "Python 3",
   "language": "python",
   "name": "python3"
  },
  "language_info": {
   "codemirror_mode": {
    "name": "ipython",
    "version": 2
   },
   "file_extension": ".py",
   "mimetype": "text/x-python",
   "name": "python",
   "nbconvert_exporter": "python",
   "pygments_lexer": "ipython2",
   "version": "2.7.6"
  }
 },
 "nbformat": 4,
 "nbformat_minor": 0
}
