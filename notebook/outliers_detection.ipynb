{
 "cells": [
  {
   "cell_type": "code",
   "execution_count": null,
   "metadata": {
    "collapsed": true
   },
   "outputs": [],
   "source": [
    "import pandas as pd\n",
    "import numpy as np\n",
    "import matplotlib.pyplot as plt\n",
    "from sklearn.ensemble import RandomForestRegressor\n",
    "from sklearn.preprocessing import StandardScaler"
   ]
  },
  {
   "cell_type": "code",
   "execution_count": null,
   "outputs": [],
   "source": [],
   "metadata": {
    "collapsed": false
   }
  },
  {
   "cell_type": "code",
   "execution_count": null,
   "outputs": [],
   "source": [
    "df = pd.read_csv(\"../backup/processed.csv\", sep=\";\")\n",
    "df['timestamps_UTC'] = pd.to_datetime(df['timestamps_UTC'])"
   ],
   "metadata": {
    "collapsed": false
   }
  },
  {
   "cell_type": "code",
   "execution_count": null,
   "outputs": [],
   "source": [
    "df.describe()"
   ],
   "metadata": {
    "collapsed": false
   }
  },
  {
   "cell_type": "markdown",
   "source": [
    "- AirTemp shouldn't be over 65°C,\n",
    "- WaterTemp shouldn't be over 100°C,\n",
    "- OilTemp shouldn't be over 115°C.\n",
    "\n",
    "It is the maximum accepted temperature of each fluid, else the engine should automatically shut down.\n",
    "=> Should allow us for verifying if the reding is wrong (no engine shutoff) or if it is an overheating (engine shutoff)"
   ],
   "metadata": {
    "collapsed": false
   }
  },
  {
   "cell_type": "code",
   "execution_count": null,
   "outputs": [],
   "source": [
    "df_raw = df.copy()"
   ],
   "metadata": {
    "collapsed": false
   }
  },
  {
   "cell_type": "code",
   "execution_count": null,
   "outputs": [],
   "source": [
    "AirLimit = 65\n",
    "WaterLimit = 100\n",
    "OilLimit = 115\n",
    "\n",
    "precision = 0.1\n",
    "\n",
    "# Remove values under 0\n",
    "df_raw = df_raw[df_raw['RS_E_InAirTemp_PC1'] > 0]\n",
    "df_raw = df_raw[df_raw['RS_E_InAirTemp_PC1'] < AirLimit * (1 + precision)]\n",
    "\n",
    "df_raw = df_raw[df_raw['RS_E_WatTemp_PC1'] > 0]\n",
    "df_raw = df_raw[df_raw['RS_E_WatTemp_PC1'] < WaterLimit * (1 + precision)]\n",
    "\n",
    "df_raw = df_raw[df_raw['RS_T_OilTemp_PC1'] > 0]\n",
    "df_raw = df_raw[df_raw['RS_T_OilTemp_PC1'] < OilLimit * (1 + precision)]\n",
    "\n",
    "\n",
    "# histogram of air temperature\n",
    "bins = 80\n",
    "df_raw['RS_E_InAirTemp_PC1'].hist(bins=bins)\n",
    "df_raw['RS_T_OilTemp_PC1'].hist(bins=bins)\n",
    "df_raw['RS_E_WatTemp_PC1'].hist(bins=bins)\n",
    "plt.legend(['Air', 'Oil', 'Water'])\n",
    "plt.show()"
   ],
   "metadata": {
    "collapsed": false
   }
  },
  {
   "cell_type": "code",
   "execution_count": null,
   "outputs": [],
   "source": [
    "data = df_raw[df_raw['mapped_veh_id'] == 102]\n",
    "data.reset_index(inplace=True)\n",
    "data_train = data.copy()\n",
    "# data = data.iloc[1000:3000]\n",
    "data.reset_index(inplace=True)"
   ],
   "metadata": {
    "collapsed": false
   }
  },
  {
   "cell_type": "markdown",
   "source": [
    "# Random Forest"
   ],
   "metadata": {
    "collapsed": false
   }
  },
  {
   "cell_type": "code",
   "execution_count": null,
   "outputs": [],
   "source": [
    "### lets see the threshold if we use normal univariate z-score cut off\n",
    "threshold_max = data['RS_E_InAirTemp_PC1'].mean() + 3 * data['RS_E_InAirTemp_PC1'].std()\n",
    "threshold_min = data['RS_E_InAirTemp_PC1'].mean() - 3 * data['RS_E_InAirTemp_PC1'].std()\n",
    "\n",
    "# Create a new DataFrame containing values above the threshold\n",
    "df_outliers_max = data[data['RS_E_InAirTemp_PC1'] > threshold_max]\n",
    "df_outliers_min = data[data['RS_E_InAirTemp_PC1'] < threshold_min]\n",
    "df_outliers_univar = pd.concat([df_outliers_min, df_outliers_max])\n",
    "\n",
    "# Print mean and standard deviation\n",
    "print(f\"Mean: {data['RS_E_InAirTemp_PC1'].mean():.2f}\")\n",
    "print(f\"Standard Deviation: {data['RS_E_InAirTemp_PC1'].std():.2f}\")\n",
    "print()\n",
    "\n",
    "# Print the threshold in a pretty way\n",
    "print(f\"Threshold for outliers (mean + 3 * std): {threshold_max:.2f}\")\n",
    "print(f\"Threshold for outliers (mean - 3 * std): {threshold_min:.2f}\")\n",
    "print()\n",
    "\n",
    "# Display the first few rows of df_outliers_univar\n",
    "print(f\"Number of datapoints flagged as outliers: {df_outliers_univar.shape[0]} \")"
   ],
   "metadata": {
    "collapsed": false
   }
  },
  {
   "cell_type": "code",
   "execution_count": null,
   "outputs": [],
   "source": [
    "# Create the scatter plot\n",
    "plt.figure(figsize=(10, 6))  # Adjust the figure size as needed\n",
    "\n",
    "# Plot all data points in blue\n",
    "plt.scatter(data.index, data['RS_E_InAirTemp_PC1'], marker='o', color='b', alpha=0.5, label='Non-Outliers')\n",
    "\n",
    "# Plot data points in df_outliers_univar in red\n",
    "plt.scatter(df_outliers_univar.index, df_outliers_univar['RS_E_InAirTemp_PC1'], marker='o', color='r', alpha=0.5, label='Outliers')\n",
    "\n",
    "# Add labels and title\n",
    "plt.xlabel('Time')\n",
    "plt.ylabel('Air Temperature')\n",
    "plt.title('Air Temperature with Outliers over Time')\n",
    "\n",
    "# Show a legend to differentiate between outliers and non-outliers\n",
    "plt.legend()\n",
    "\n",
    "# Show the plot\n",
    "plt.grid(True)\n",
    "plt.show()"
   ],
   "metadata": {
    "collapsed": false
   }
  },
  {
   "cell_type": "code",
   "execution_count": null,
   "outputs": [],
   "source": [
    "# Extract the columns for the scatter plot\n",
    "air_temp_pc1 = data['RS_E_InAirTemp_PC1']\n",
    "air_temp_pc2 = data['RS_E_InAirTemp_PC2']\n",
    "\n",
    "# Create the scatter plot\n",
    "plt.figure(figsize=(10, 6))  # Optional: Set the figure size\n",
    "plt.scatter(air_temp_pc1, air_temp_pc2, alpha=0.5)  # alpha controls transparency\n",
    "\n",
    "# Set plot labels and title\n",
    "plt.xlabel('Air Temperature PC1')\n",
    "plt.ylabel('Air Temperature PC2')\n",
    "plt.title('Scatter Plot Air Temperature: PC1 vs. PC2')\n",
    "\n",
    "# Show the plot\n",
    "plt.grid(True)\n",
    "plt.show()"
   ],
   "metadata": {
    "collapsed": false
   }
  },
  {
   "cell_type": "code",
   "execution_count": null,
   "outputs": [],
   "source": [
    "# Extract the columns for the scatter plot\n",
    "air_temp_pc1 = data['RS_E_RPM_PC1']\n",
    "air_temp_pc2 = data['RS_E_RPM_PC2']\n",
    "\n",
    "# Create the scatter plot\n",
    "plt.figure(figsize=(10, 6))  # Optional: Set the figure size\n",
    "plt.scatter(air_temp_pc1, air_temp_pc2, alpha=0.5)  # alpha controls transparency\n",
    "\n",
    "# Set plot labels and title\n",
    "plt.xlabel('RS_E_RPM_PC1')\n",
    "plt.ylabel('RS_E_RPM_PC1')\n",
    "plt.title('Scatter Plot RPM: PC1 vs. PC2')\n",
    "\n",
    "# Show the plot\n",
    "plt.grid(True)\n",
    "plt.show()"
   ],
   "metadata": {
    "collapsed": false
   }
  },
  {
   "cell_type": "code",
   "execution_count": null,
   "outputs": [],
   "source": [
    "# Scatter plot of the RPM vs the OilPressure\n",
    "plt.figure(figsize=(10, 6))  # Optional: Set the figure size\n",
    "plt.scatter(data['RS_E_RPM_PC1'], data['RS_E_OilPress_PC1'], alpha=1)  # alpha controls transparency\n",
    "plt.scatter(data['RS_E_RPM_PC2'], data['RS_E_OilPress_PC2'], alpha=1)  # alpha controls transparency\n",
    "plt.xlabel('RPM')\n",
    "plt.ylabel('Oil Pressure')\n",
    "plt.legend(['PC1', 'PC2'])\n",
    "plt.title('Scatter Plot: RPM vs. Oil Pressure')\n",
    "plt.grid(True)\n",
    "plt.show()\n",
    "\n",
    "\n",
    "print(len(data[data['RS_E_OilPress_PC1'] == 0]))\n",
    "print(len(data[data['RS_E_OilPress_PC2'] == 0]))\n",
    "\n",
    "# Same plot but limit to OilPressure = 0\n",
    "plt.figure(figsize=(10, 6))  # Optional: Set the figure size\n",
    "plt.scatter(\n",
    "    data[data['RS_E_RPM_PC1'] == 0]['RS_E_RPM_PC1'],\n",
    "    data[data['RS_E_RPM_PC1'] == 0]['RS_E_OilPress_PC1'],\n",
    "    alpha=1\n",
    ")  # alpha controls transparency\n",
    "plt.scatter(\n",
    "    data[data['RS_E_RPM_PC2'] == 0]['RS_E_RPM_PC2'],\n",
    "    data[data['RS_E_RPM_PC2'] == 0]['RS_E_OilPress_PC2'],\n",
    "    alpha=1\n",
    ")  # alpha controls transparency\n",
    "plt.xlabel('RPM')\n",
    "plt.ylabel('Oil Pressure')\n",
    "plt.legend(['PC1', 'PC2'])\n",
    "plt.title('Scatter Plot: RPM vs. Oil Pressure')\n",
    "plt.grid(True)\n",
    "\n",
    "# Bar plot of the frequency of OilPressure when RPM = 0\n",
    "plt.figure(figsize=(10, 6))  # Optional: Set the figure size\n",
    "plt.bar(\n",
    "    data[data['RS_E_RPM_PC2'] == 0]['RS_E_OilPress_PC2'].value_counts().index,\n",
    "    data[data['RS_E_RPM_PC2'] == 0]['RS_E_OilPress_PC2'].value_counts().values,\n",
    "    alpha=1\n",
    ")  # alpha controls transparency\n",
    "plt.bar(\n",
    "    data[data['RS_E_RPM_PC1'] == 0]['RS_E_OilPress_PC1'].value_counts().index,\n",
    "    data[data['RS_E_RPM_PC1'] == 0]['RS_E_OilPress_PC1'].value_counts().values,\n",
    "    alpha=1\n",
    ")  # alpha controls transparency\n",
    "\n",
    "plt.xlabel('Oil Pressure')\n",
    "plt.ylabel('Frequency')\n",
    "plt.legend(['PC2', 'PC1'])\n",
    "plt.title('Bar Plot: Oil Pressure Frequency when RPM = 0')\n",
    "plt.grid(True)\n",
    "plt.show()"
   ],
   "metadata": {
    "collapsed": false
   }
  },
  {
   "cell_type": "code",
   "execution_count": null,
   "outputs": [],
   "source": [
    "# Extract the columns for the scatter plot\n",
    "oil_temp_pc1 = data['RS_T_OilTemp_PC1']\n",
    "water_temp_pc1 = data['RS_E_WatTemp_PC1']\n",
    "\n",
    "# Create the scatter plot\n",
    "plt.figure(figsize=(10, 6))  # Optional: Set the figure size\n",
    "\n",
    "plt.scatter(oil_temp_pc1, water_temp_pc1, alpha=0.5)  # alpha controls transparency\n",
    "\n",
    "# Extract the columns for the scatter plot\n",
    "oil_temp_pc2 = data['RS_T_OilTemp_PC2']\n",
    "water_temp_pc2 = data['RS_E_WatTemp_PC2']\n",
    "\n",
    "plt.scatter(oil_temp_pc2, water_temp_pc2, alpha=0.5)  # alpha controls transparency\n",
    "\n",
    "# Show the plot\n",
    "plt.xlabel('Oil Temperature')\n",
    "plt.ylabel('Water Temperature')\n",
    "plt.title('Scatter Plot Correlation between Oil and Water Temperature')\n",
    "plt.legend(['PC1', 'PC2'])\n",
    "plt.grid(True)\n",
    "plt.show()"
   ],
   "metadata": {
    "collapsed": false
   }
  },
  {
   "cell_type": "code",
   "execution_count": null,
   "outputs": [],
   "source": [
    "water_consumption = data['RS_E_InAirTemp_PC1']\n",
    "gas_consumption = data['RS_E_InAirTemp_PC2']\n",
    "\n",
    "# Create a scatter plot with points not in df_outliers\n",
    "plt.figure(figsize=(10, 6))  # Optional: Set the figure size\n",
    "plt.scatter(\n",
    "    water_consumption[~data.index.isin(df_outliers_univar.index)],\n",
    "    gas_consumption[~data.index.isin(df_outliers_univar.index)],\n",
    "    alpha=0.5,\n",
    "    label='Not Outliers',  # Label for non-outliers points\n",
    ")\n",
    "\n",
    "# Create a scatter plot with points in df_outliers (colored in red)\n",
    "plt.scatter(\n",
    "    water_consumption[data.index.isin(df_outliers_univar.index)],\n",
    "    gas_consumption[data.index.isin(df_outliers_univar.index)],\n",
    "    alpha=0.5,\n",
    "    color='red',  # Color for outliers points\n",
    "    label='Outliers',  # Label for outliers points\n",
    ")\n",
    "\n",
    "# Set plot labels and title\n",
    "plt.xlabel('Water Consumption')\n",
    "plt.ylabel('Gas Consumption')\n",
    "plt.title('Scatter Plot: Water Consumption vs. Gas Consumption')\n",
    "\n",
    "# Show a legend to differentiate between outliers and non-outliers\n",
    "plt.legend()\n",
    "\n",
    "# Show the plot\n",
    "plt.grid(True)\n",
    "plt.show()"
   ],
   "metadata": {
    "collapsed": false
   }
  },
  {
   "cell_type": "code",
   "execution_count": null,
   "outputs": [],
   "source": [
    "def split_X_y(df, target_label):\n",
    "    X = df.drop(target_label, axis=1)\n",
    "    y = df[target_label]\n",
    "    return X,y"
   ],
   "metadata": {
    "collapsed": false
   }
  },
  {
   "cell_type": "code",
   "execution_count": null,
   "outputs": [],
   "source": [
    "X,y = split_X_y(data_train.drop([\"timestamps_UTC\", \"time_difference\"], axis=1),'RS_E_InAirTemp_PC1')"
   ],
   "metadata": {
    "collapsed": false
   }
  },
  {
   "cell_type": "code",
   "execution_count": null,
   "outputs": [],
   "source": [
    "def train_random_forest_regressor(X, y):\n",
    "    # Standardize the features\n",
    "    scaler = StandardScaler()\n",
    "    X_scaled = scaler.fit_transform(X)\n",
    "\n",
    "    # Train a Random Forest Regressor\n",
    "    model = RandomForestRegressor(n_estimators=100, random_state=42)\n",
    "    model.fit(X_scaled, y)\n",
    "\n",
    "    # Predict the water consumption on test set\n",
    "    y_pred = model.predict(X_scaled)\n",
    "\n",
    "    # Calculate the residuals\n",
    "    residuals = y - y_pred\n",
    "\n",
    "    importances = model.feature_importances_\n",
    "\n",
    "    # Create a dataframe for visualization\n",
    "    importances_df = pd.DataFrame({\n",
    "        'Feature': X.columns,\n",
    "        'Importance': importances\n",
    "    })\n",
    "\n",
    "    # Sort the dataframe by importance\n",
    "    feature_importances = importances_df.sort_values(by='Importance', ascending=False)\n",
    "\n",
    "\n",
    "    return residuals,feature_importances"
   ],
   "metadata": {
    "collapsed": false
   }
  },
  {
   "cell_type": "code",
   "execution_count": null,
   "outputs": [],
   "source": [
    "def find_outliers_z_score(df, residuals, z_score_cut_off):\n",
    "    # Identify buildings with residuals more than 3 standard deviations above the mean\n",
    "    residuals_mean = residuals.mean()\n",
    "    residuals_std = residuals.std()\n",
    "    outliers = df[residuals > residuals_mean + z_score_cut_off * residuals_std]\n",
    "    return outliers"
   ],
   "metadata": {
    "collapsed": false
   }
  },
  {
   "cell_type": "code",
   "execution_count": null,
   "outputs": [],
   "source": [
    "## For future optimization, we can remove columns that have zero feature importance\n",
    "residuals,feature_importance = train_random_forest_regressor(X,y)\n",
    "feature_importance"
   ],
   "metadata": {
    "collapsed": false
   }
  },
  {
   "cell_type": "code",
   "execution_count": null,
   "outputs": [],
   "source": [
    "print(len(residuals))\n",
    "print(len(data))\n",
    "\n",
    "## get the mean of the entire dataset\n",
    "mean_total = data['RS_E_InAirTemp_PC1'].mean()\n",
    "\n",
    "##get the number of outliers detected\n",
    "df_outliers = find_outliers_z_score(data, residuals, 3)\n",
    "num_outliers = df_outliers.shape\n",
    "\n",
    "## mean water consumption of outlier households\n",
    "mean_outliers= df_outliers['RS_E_InAirTemp_PC1'].mean()\n",
    "\n",
    "# Reset the index of df_outliers to ensure consistent indexing\n",
    "df_outliers_reset = df_outliers.reset_index(drop=True)\n",
    "\n",
    "# Use the index difference to select non-outlier rows from df_all_rows\n",
    "df_no_outliers = data.drop(df_outliers_reset.index, axis=0)\n",
    "\n",
    "# df_no_outliers now contains all rows except the outliers\n",
    "\n",
    "## print mean of non outliers\n",
    "mean_no_outliers = df_no_outliers['RS_E_InAirTemp_PC1'].mean()\n",
    "\n",
    "print(f\"Number of outliers detected: {num_outliers}\")\n",
    "print(f\"Mean water consumption of entire dataset: {mean_total}\")\n",
    "print(f\"Mean water consumption of outlier households: {mean_outliers}\")\n",
    "print(f\"Mean water consumption without outliers: {mean_no_outliers}\")"
   ],
   "metadata": {
    "collapsed": false
   }
  },
  {
   "cell_type": "code",
   "execution_count": null,
   "outputs": [],
   "source": [
    "import matplotlib.pyplot as plt\n",
    "\n",
    "# Assuming you have DataFrames df_raw and df_outliers\n",
    "# Replace 'water_consumption' with the actual column name if it's different\n",
    "\n",
    "# Create the scatter plot\n",
    "plt.figure(figsize=(10, 6))  # Adjust the figure size as needed\n",
    "\n",
    "# Scatter plot for non-outliers (color='blue')\n",
    "plt.scatter(\n",
    "    range(len(data)),  # x-values for non-outliers\n",
    "    data['RS_E_InAirTemp_PC1'],  # y-values for non-outliers\n",
    "    marker='o',\n",
    "    color='blue',\n",
    "    alpha=0.5,\n",
    "    label='Non-Outliers'\n",
    ")\n",
    "\n",
    "# Scatter plot for outliers from df_outliers (color='red')\n",
    "plt.scatter(\n",
    "    df_outliers.index,  # x-values for outliers from df_outliers\n",
    "    df_outliers['RS_E_InAirTemp_PC1'],  # y-values for outliers from df_outliers\n",
    "    marker='o',\n",
    "    color='red',\n",
    "    alpha=0.5,\n",
    "    label='Outliers'\n",
    ")\n",
    "\n",
    "# Add labels and title\n",
    "plt.xlabel('Data Points')\n",
    "plt.ylabel('Water Consumption')\n",
    "plt.title('Distribution of Water Consumption with Outliers (Red)')\n",
    "\n",
    "# Show a legend to differentiate between non-outliers and outliers\n",
    "plt.legend()\n",
    "\n",
    "# Show the plot\n",
    "plt.show()"
   ],
   "metadata": {
    "collapsed": false
   }
  },
  {
   "cell_type": "code",
   "execution_count": null,
   "outputs": [],
   "source": [
    "water_consumption = data['RS_E_InAirTemp_PC1']\n",
    "gas_consumption = data['RS_E_InAirTemp_PC2']\n",
    "\n",
    "# Create a scatter plot with points not in df_outliers\n",
    "plt.figure(figsize=(10, 6))  # Optional: Set the figure size\n",
    "plt.scatter(\n",
    "    water_consumption[~data.index.isin(df_outliers.index)],\n",
    "    gas_consumption[~data.index.isin(df_outliers.index)],\n",
    "    alpha=0.5,\n",
    "    label='Not Outliers',  # Label for non-outliers points\n",
    ")\n",
    "\n",
    "# Create a scatter plot with points in df_outliers (colored in red)\n",
    "plt.scatter(\n",
    "    water_consumption[data.index.isin(df_outliers.index)],\n",
    "    gas_consumption[data.index.isin(df_outliers.index)],\n",
    "    alpha=0.5,\n",
    "    color='red',  # Color for outliers points\n",
    "    label='Outliers',  # Label for outliers points\n",
    ")\n",
    "\n",
    "# Set plot labels and title\n",
    "plt.xlabel('Water Consumption')\n",
    "plt.ylabel('Gas Consumption')\n",
    "plt.title('Scatter Plot: Water Consumption vs. Gas Consumption')\n",
    "\n",
    "# Show a legend to differentiate between outliers and non-outliers\n",
    "plt.legend()\n",
    "\n",
    "# Show the plot\n",
    "plt.grid(True)\n",
    "plt.show()"
   ],
   "metadata": {
    "collapsed": false
   }
  }
 ],
 "metadata": {
  "kernelspec": {
   "display_name": "Python 3",
   "language": "python",
   "name": "python3"
  },
  "language_info": {
   "codemirror_mode": {
    "name": "ipython",
    "version": 2
   },
   "file_extension": ".py",
   "mimetype": "text/x-python",
   "name": "python",
   "nbconvert_exporter": "python",
   "pygments_lexer": "ipython2",
   "version": "2.7.6"
  }
 },
 "nbformat": 4,
 "nbformat_minor": 0
}
