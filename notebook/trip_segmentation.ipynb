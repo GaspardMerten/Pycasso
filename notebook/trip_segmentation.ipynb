{
 "cells": [
  {
   "cell_type": "code",
   "execution_count": null,
   "outputs": [],
   "source": [
    "import pandas as pd\n",
    "import matplotlib.pyplot as plt"
   ],
   "metadata": {
    "collapsed": false
   }
  },
  {
   "cell_type": "code",
   "execution_count": null,
   "outputs": [],
   "source": [
    "df = pd.read_csv('../backup/processed.csv', sep=';')\n",
    "df_102 = df[df['mapped_veh_id'] == 102]"
   ],
   "metadata": {
    "collapsed": false
   }
  },
  {
   "cell_type": "code",
   "execution_count": null,
   "metadata": {
    "collapsed": true
   },
   "outputs": [],
   "source": [
    "data = df_102.copy()\n",
    "# Sort by timestamps_UTC\n",
    "timestamp_col = 'timestamps_UTC'\n",
    "data[timestamp_col] = pd.to_datetime(data[timestamp_col])\n",
    "data = data.sort_values(by=timestamp_col)\n",
    "# # Remove data when consecutive timestamps delta is bigger than 30min\n",
    "# data = data[data[timestamp_col].diff() < pd.Timedelta(minutes=30)]\n",
    "# # Remove data when consecutive timestamps delta is smaller than 1s\n",
    "# data = data[data[timestamp_col].diff() > pd.Timedelta(seconds=1)]\n",
    "\n",
    "AirTemp = data['RS_E_InAirTemp_PC2']\n",
    "Timestamps = data['timestamps_UTC']\n",
    "limit = len(data)\n",
    "\n",
    "ts = pd.Series(AirTemp.values, index=Timestamps)\n",
    "ts = ts[0:limit]\n",
    "\n",
    "# Normalize the data between 0 and 1\n",
    "ts = (ts - ts.min()) / (ts.max() - ts.min())"
   ]
  },
  {
   "cell_type": "code",
   "execution_count": null,
   "outputs": [],
   "source": [
    "data_speed = data[['speed', 'timestamps_UTC']]\n",
    "\n",
    "# Remove data when speed is 0\n",
    "# data = data[data['speed'] != 0]\n",
    "\n",
    "# Remove data when speed is bigger than 150km/h (shouldn't happen, max speed is 120km/h)\n",
    "data_speed = data_speed[data_speed['speed'] <= 150 / 3.6]\n",
    "\n",
    "# speed_ts = pd.Series(data_speed['speed'].values, index=data_speed['timestamps_UTC']).iloc[11250:11270]\n",
    "\n",
    "# print(speed_ts)\n",
    "\n",
    "speed_ts = pd.Series(data_speed['speed'].values, index=data_speed['timestamps_UTC'])\n",
    "\n",
    "# Plot the data\n",
    "plt.figure(figsize=(20,10))\n",
    "plt.plot(speed_ts)\n",
    "\n",
    "# Plot red dots where speed is above 120km/h (train max speed)\n",
    "plt.plot(speed_ts[speed_ts > 120 / 3.6], 'ro') # Outliers because too fast\n",
    "plt.plot(speed_ts[speed_ts <= 0.1], 'bo') # Movements due to GPS error\n",
    "\n",
    "plt.show()"
   ],
   "metadata": {
    "collapsed": false
   }
  },
  {
   "cell_type": "code",
   "execution_count": null,
   "outputs": [],
   "source": [
    "df_sample = df_102.copy()\n",
    "\n",
    "# Select the rows with the following timestamps\n",
    "# 2023-02-02 07:11:06     20.774122\n",
    "# 2023-02-02 07:11:13     14.818934\n",
    "# 2023-02-02 07:12:06     10.395424\n",
    "# 2023-02-02 07:12:13      6.529558\n",
    "# 2023-02-02 07:16:13      8.051485\n",
    "# 2023-02-02 07:17:09     18.215998\n",
    "# 2023-02-02 07:17:13    255.023974\n",
    "# 2023-02-02 07:18:09     36.929668\n",
    "# 2023-02-02 07:18:14    413.612284\n",
    "# 2023-02-02 07:19:09     38.416082\n",
    "# 2023-02-02 07:19:14    422.576903\n",
    "# 2023-02-02 07:20:09     51.021562\n",
    "# 2023-02-02 07:21:08      0.000000\n",
    "# 2023-02-02 07:22:07     73.940563\n",
    "# 2023-02-02 07:23:08     82.126230\n",
    "# 2023-02-02 07:24:08     90.935003\n",
    "# 2023-02-02 07:25:08    111.698604\n",
    "# 2023-02-02 07:26:11    123.009707\n",
    "# 2023-02-02 07:27:11    138.893617\n",
    "# 2023-02-02 07:28:12    139.785914\n",
    "\n",
    "df_sample = df_sample[df_sample['timestamps_UTC'].isin([\n",
    "    '2023-02-02 07:11:06',\n",
    "    '2023-02-02 07:11:13',\n",
    "    '2023-02-02 07:12:06',\n",
    "    '2023-02-02 07:12:13',\n",
    "    '2023-02-02 07:16:13',\n",
    "    '2023-02-02 07:17:09',\n",
    "    '2023-02-02 07:17:13',\n",
    "    '2023-02-02 07:18:09',\n",
    "    '2023-02-02 07:18:14',\n",
    "    '2023-02-02 07:19:09',\n",
    "    '2023-02-02 07:19:14',\n",
    "    '2023-02-02 07:20:09',\n",
    "    '2023-02-02 07:21:08',\n",
    "    '2023-02-02 07:22:07',\n",
    "    '2023-02-02 07:23:08',\n",
    "    '2023-02-02 07:24:08',\n",
    "    '2023-02-02 07:25:08',\n",
    "    '2023-02-02 07:26:11',\n",
    "    '2023-02-02 07:27:11',\n",
    "    '2023-02-02 07:28:12'\n",
    "])]\n",
    "\n",
    "df_sample"
   ],
   "metadata": {
    "collapsed": false
   }
  },
  {
   "cell_type": "code",
   "execution_count": null,
   "outputs": [],
   "source": [
    "# Plot the data\n",
    "plt.figure(figsize=(20,10))\n",
    "plt.plot(ts)\n",
    "plt.show()\n",
    "\n",
    "# Count the number of 0s in 'RS_E_InAirTemp_PC2'\n",
    "print(\"Number of 0s in 'RS_E_InAirTemp_PC2':\", len(data[data['RS_E_InAirTemp_PC2'] == 0]))\n",
    "\n",
    "# Remove data when 'RS_E_InAirTemp_PC2' is 0\n",
    "data_clean = data[data['RS_E_InAirTemp_PC2'] != 0]\n",
    "ts_clean = pd.Series(data_clean['RS_E_InAirTemp_PC2'].values, index=data_clean['timestamps_UTC'])\n",
    "print(\"Size of the data after removing 0s in 'RS_E_InAirTemp_PC2':\", len(ts_clean))\n",
    "\n",
    "# Plot the data\n",
    "plt.figure(figsize=(20,10))\n",
    "plt.plot(ts_clean)\n",
    "plt.show()\n",
    "\n",
    "# Remove the rows where the distance between consecutive location is smaller than 1m\n",
    "# + pay attention to rows where timestamp is the same or really close => use speed\n",
    "# + pay attention to rows where speed is 0\n",
    "# + pay attention to rows where speed is bigger than 100km/h (shouldn't happen, max speed is 100km/h)\n",
    "print(\"Number of rows where speed smaller than 1km/h:\", len(data_clean[data_clean['speed'] < 1]))\n",
    "data_clean = data_clean[data_clean['speed'] >= 1 / 3.6]\n",
    "print(\"Number of rows where speed bigger than 100km/h:\", len(data_clean[data_clean['speed'] > 100]))\n",
    "data_clean = data_clean[data_clean['speed'] <= 120 / 3.6]\n",
    "\n",
    "# Transform the time_difference to time\n",
    "data_clean['time_difference'] = pd.to_timedelta(data['time_difference'])\n",
    "print(\"Number of rows where time difference is bigger than 10s:\", len(data_clean[data_clean['time_difference'] > pd.Timedelta(seconds=10)]))\n",
    "data_clean = data_clean[data_clean['time_difference'] < pd.Timedelta(seconds=10)]\n",
    "\n",
    "ts_clean = pd.Series(data_clean['RS_E_InAirTemp_PC2'].values, index=data_clean['timestamps_UTC'])\n",
    "print(\"Size of the data after removing rows where speed smaller than 1km/h and bigger than 100km/h:\", len(ts_clean))\n",
    "\n",
    "# Plot the data\n",
    "plt.figure(figsize=(20,10))\n",
    "plt.plot(ts_clean)\n",
    "plt.show()\n",
    "\n",
    "\n",
    "# Plot lines for each index, showcase real data portions\n",
    "# timestamps = data_clean['timestamps_UTC']\n",
    "# for i in tqdm(timestamps):\n",
    "#     plt.axvline(x=i, color='r')\n",
    "# plt.plot(ts_clean)\n",
    "# plt.show()"
   ],
   "metadata": {
    "collapsed": false
   }
  },
  {
   "cell_type": "code",
   "execution_count": null,
   "outputs": [],
   "source": [
    "# Plot the data\n",
    "plt.figure(figsize=(20,5))\n",
    "plt.plot(ts)\n",
    "plt.show()\n",
    "\n",
    "# Separate data by duration without data\n",
    "data_sample = data_clean.copy()\n",
    "\n",
    "# Reset the index\n",
    "data_sample = data_sample.reset_index(drop=True)\n",
    "\n",
    "# Get the difference between consecutive timestamps\n",
    "diff = data_sample['timestamps_UTC'].diff()\n",
    "\n",
    "# Get the right side indexes where the difference is bigger than 30min\n",
    "idx_left = diff[diff > pd.Timedelta(minutes=10)].index\n",
    "\n",
    "\n",
    "# Get the left side indexes where the difference is bigger than 30min\n",
    "idx_right = idx_left - 1\n",
    "\n",
    "# Add the first and last indexes\n",
    "idx_left = [0] + idx_left.tolist()\n",
    "idx_right = idx_right.tolist() + [len(data_sample)]\n",
    "\n",
    "# Plot the data outside the segments\n",
    "ts = pd.Series(data_sample['RS_E_InAirTemp_PC2'].values, index=data_sample['timestamps_UTC'])\n",
    "\n",
    "plt.figure(figsize=(20,5))\n",
    "# for i in tqdm(data_sample['timestamps_UTC']):\n",
    "#     plt.axvline(x=i, color='r')\n",
    "\n",
    "plt.plot(ts)\n",
    "plt.show()\n",
    "\n",
    "plt.figure(figsize=(20,5))\n",
    "\n",
    "for segment in zip(idx_left, idx_right):\n",
    "    data_plot = 0\n",
    "    ts_plot = ts[segment[0]:segment[1]]\n",
    "    plt.plot(ts_plot, label=str(segment))\n",
    "\n",
    "plt.savefig('segments.png', dpi=300)\n",
    "plt.show()"
   ],
   "metadata": {
    "collapsed": false
   }
  },
  {
   "cell_type": "code",
   "execution_count": null,
   "outputs": [],
   "source": [],
   "metadata": {
    "collapsed": false
   }
  }
 ],
 "metadata": {
  "kernelspec": {
   "display_name": "Python 3",
   "language": "python",
   "name": "python3"
  },
  "language_info": {
   "codemirror_mode": {
    "name": "ipython",
    "version": 2
   },
   "file_extension": ".py",
   "mimetype": "text/x-python",
   "name": "python",
   "nbconvert_exporter": "python",
   "pygments_lexer": "ipython2",
   "version": "2.7.6"
  }
 },
 "nbformat": 4,
 "nbformat_minor": 0
}
