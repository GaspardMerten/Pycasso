{
 "cells": [
  {
   "cell_type": "code",
   "execution_count": null,
   "metadata": {
    "collapsed": true
   },
   "outputs": [],
   "source": [
    "import pandas as pd"
   ]
  },
  {
   "cell_type": "code",
   "execution_count": null,
   "outputs": [],
   "source": [
    "df = pd.read_csv('../backup/operating_points.csv', sep=';')\n",
    "df.head()"
   ],
   "metadata": {
    "collapsed": false
   }
  },
  {
   "cell_type": "code",
   "execution_count": null,
   "outputs": [],
   "source": [
    "print(df['Classification FR'].unique())\n",
    "\n",
    "# Create a dict with colors for each classification\n",
    "colors = [\n",
    "    '#ff0000', # Station\n",
    "    '#ff8000', # Connection\n",
    "    '#ffff00', # Service installation\n",
    "    '#80ff00', # 6\n",
    "    '#00ff00', # Stop in open track\n",
    "    '#00ff80', # Net borde\n",
    "    '#00ffff', # Service stop\n",
    "    '#0080ff', # Grid\n",
    "    '#0000ff', # Junction\n",
    "    '#8000ff', # Movable bridge\n",
    "    '#ff00ff', # Other\n",
    "    '#ff0080', # 8\n",
    "]\n",
    "classifications = ['Station', 'Connection', 'Service installation', '6', 'Stop in open track',\n",
    " 'Net borde', 'Service stop', 'Grid', 'Junction', 'Movable bridge', 'Other', '8']\n",
    "\n",
    "color_dict = dict()\n",
    "for i in range(len(classifications)):\n",
    "    color_dict[classifications[i]] = colors[i]\n",
    "\n",
    "print(color_dict)\n",
    "\n",
    "# Plot the points on the Belgium map, different color for each classification\n",
    "import folium\n",
    "\n",
    "# Create a map, centered on Belgium, don't allow to zoom\n",
    "m = folium.Map(\n",
    "    location=[50.503887, 4.469936],\n",
    "    # Easily readable tiles\n",
    "    tiles='cartodbpositron',\n",
    "    zoom_start=8,\n",
    "    zoom_control=False,\n",
    "    scrollWheelZoom=False,\n",
    "    dragging=False\n",
    ")\n",
    "\n",
    "for index, row in df.iterrows():\n",
    "    # Get the classification\n",
    "    classification = row['Classification EN']\n",
    "    # Get the coordinates\n",
    "    lat, lon = map(float, row['Geo Point'].split(','))\n",
    "    # Add the marker, with a color depending on the classification\n",
    "    if classification in [\n",
    "        \"Station\",\n",
    "        \"Stop in open track\",\n",
    "        # \"Service stop\",\n",
    "    ]:\n",
    "        folium.CircleMarker(\n",
    "            location=[lat, lon],\n",
    "            radius=1,\n",
    "            color=color_dict[classification],\n",
    "            fill_color=color_dict[classification]\n",
    "        ).add_to(m)\n",
    "\n",
    "# Display the map\n",
    "m"
   ],
   "metadata": {
    "collapsed": false
   }
  },
  {
   "cell_type": "code",
   "execution_count": null,
   "outputs": [],
   "source": [
    "import openmeteo_requests\n",
    "import pandas as pd\n",
    "import requests_cache\n",
    "from retry_requests import retry"
   ],
   "metadata": {
    "collapsed": false
   }
  },
  {
   "cell_type": "code",
   "execution_count": null,
   "outputs": [],
   "source": [
    "\n",
    "# Set up the Open-Meteo API client with cache and retry on error\n",
    "cache_session = requests_cache.CachedSession('.cache', expire_after=3600)\n",
    "retry_session = retry(cache_session, retries=5, backoff_factor=0.2)\n",
    "open_meteo = openmeteo_requests.Client(session=retry_session)\n",
    "\n",
    "# Make sure all required weather variables are listed here\n",
    "# The order of variables in hourly or daily is important to assign them correctly below\n",
    "url = \"https://archive-api.open-meteo.com/v1/archive\"\n",
    "\n",
    "coordinates = {\n",
    "    \"Hasselt\": [50.930965, 5.338333],\n",
    "    \"Brussels\": [50.85045, 4.34878],\n",
    "    \"Antwerp\": [51.21989, 4.40346],\n",
    "    \"Ghent\": [51.05, 3.71667],\n",
    "    \"Charleroi\": [50.41136, 4.44448],\n",
    "}\n",
    "\n",
    "for city, coordinate in coordinates.items():\n",
    "    params = {\n",
    "        # Brussels coordinates\n",
    "        \"latitude\": coordinate[0],\n",
    "        \"longitude\": coordinate[1],\n",
    "        \"hourly\": [\"temperature_2m\", \"relative_humidity_2m\"],\n",
    "        \"start_date\": \"2022-08-22\",\n",
    "        \"end_date\": \"2023-09-13\"\n",
    "    }\n",
    "    responses = open_meteo.weather_api(url, params=params)\n",
    "\n",
    "    # Process first location. Add a for-loop for multiple locations or weather models\n",
    "    response = responses[0]\n",
    "    print(f\"Coordinates {response.Latitude()}°E {response.Longitude()}°N\")\n",
    "    print(f\"Elevation {response.Elevation()} m asl\")\n",
    "    print(f\"Timezone {response.Timezone()} {response.TimezoneAbbreviation()}\")\n",
    "    print(f\"Timezone difference to GMT+0 {response.UtcOffsetSeconds()} s\")\n",
    "\n",
    "    # Process hourly data. The order of variables needs to be the same as requested.\n",
    "    hourly = response.Hourly()\n",
    "    hourly_temperature_2m = hourly.Variables(0).ValuesAsNumpy()\n",
    "    hourly_relative_humidity_2m = hourly.Variables(1).ValuesAsNumpy()\n",
    "\n",
    "    hourly_data = {\n",
    "        \"date\": pd.date_range(\n",
    "            start=pd.to_datetime(hourly.Time(), unit=\"s\"),\n",
    "            end=pd.to_datetime(hourly.TimeEnd(), unit=\"s\"),\n",
    "            freq=pd.Timedelta(seconds=hourly.Interval()),\n",
    "            inclusive=\"left\"\n",
    "        ),\n",
    "        \"temperature\": hourly_temperature_2m,\n",
    "        \"relative_humidity\": hourly_relative_humidity_2m\n",
    "    }\n",
    "\n",
    "    hourly_dataframe = pd.DataFrame(data=hourly_data)\n",
    "    print(hourly_dataframe)\n",
    "\n",
    "    # Create a dataframe with hourly data and save it to a csv file\n",
    "    hourly_dataframe.to_csv(f\"./assets/weather/hourly_data_{city.lower()}.csv\", index=False)\n"
   ],
   "metadata": {
    "collapsed": false
   }
  }
 ],
 "metadata": {
  "kernelspec": {
   "display_name": "Python 3",
   "language": "python",
   "name": "python3"
  },
  "language_info": {
   "codemirror_mode": {
    "name": "ipython",
    "version": 2
   },
   "file_extension": ".py",
   "mimetype": "text/x-python",
   "name": "python",
   "nbconvert_exporter": "python",
   "pygments_lexer": "ipython2",
   "version": "2.7.6"
  }
 },
 "nbformat": 4,
 "nbformat_minor": 0
}
